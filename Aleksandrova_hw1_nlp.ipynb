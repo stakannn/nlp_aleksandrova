{
  "cells": [
    {
      "cell_type": "code",
      "execution_count": null,
      "id": "1b710ab9-026c-4920-b20f-fabc700f0eb5",
      "metadata": {
        "id": "1b710ab9-026c-4920-b20f-fabc700f0eb5"
      },
      "outputs": [],
      "source": [
        "import corus\n",
        "from corus import load_mokoron"
      ]
    },
    {
      "cell_type": "markdown",
      "id": "05099c52-e464-42fc-a33d-89d7af135e3c",
      "metadata": {
        "id": "05099c52-e464-42fc-a33d-89d7af135e3c"
      },
      "source": [
        "## 1. Я выбрала следующие пять неоднозначнх лексем: лук, таз, такт, тон, торчать. Значения брала из большого толкового словаря Кузнецова: https://gufo.me/dict/kuznetsov"
      ]
    },
    {
      "cell_type": "code",
      "execution_count": 2,
      "id": "f982ce39-80c3-45af-87e7-ec67424ea4f2",
      "metadata": {
        "id": "f982ce39-80c3-45af-87e7-ec67424ea4f2"
      },
      "outputs": [],
      "source": [
        "words_dictionary = {'лук':[\n",
        "                        'Огородное растение семейства лилейных.',\n",
        "                        'Съедобные трубчатые листья или луковицы этого растения.',\n",
        "                        'Ручное оружие для метания стрел, изготовленное из гибкого, упругого стержня (обычно деревянного), стянутого в дугу тетивой.'],\n",
        "                    'таз':[\n",
        "                        'Широкий и неглубокий округлый металлический сосуд.',\n",
        "                        'Часть скелета человека и животных - костный пояс, опирающийся на нижние (у животных - на задние) конечности и служащий опорой для позвоночника.'],\n",
        "                    'такт':[\n",
        "                        'Метрическая музыкальная единица - музыкальное движение между двумя соседними ударными моментами (долями).',\n",
        "                        'Ритм какого-л. движения, действия; каждое из равномерно следующих одно за другим движений или ударов.',\n",
        "                        'Часть рабочего цикла какого-л. механизма.',\n",
        "                        'Чувство меры в поведении, в поступках; умение вести себя пристойно.'],\n",
        "                    'тон':[\n",
        "                        'Музыкальный звук определённой высоты в отличие от шума.',\n",
        "                        'Соотношение двух звуков темперированного звукоряда, принимаемое за единицу при определении разности звуков по высоте и равное двум полутонам.',\n",
        "                        'Звук работающего сердца, его клапанов; звук, получаемый при выстукивании полых органов человеческого тела.',\n",
        "                        'Характер, оттенок звучания инструмента или голоса.',\n",
        "                        'Манера, стиль общения, письма, повествования.',\n",
        "                        'Цвет, окраска, а также оттенок какого-л. цвета, отличающийся той или иной степенью яркости, насыщенности.',\n",
        "                        'Косметическое средство, накладываемое на лицо для усиления выразительности лица, скрадывания изъянов и т.п.',\n",
        "                        'Звук аккорда, совпадающий с первой ступенью гаммы и слышимый отчётливее, чем другие.',\n",
        "                        'Самый низкий звук, получаемый от колебания звучащего тела, слышимый лучше других и обозначаемый обычно как единственно звучащий.'],\n",
        "                    'торчать':[\n",
        "                        'Возвышаться, выступать над поверхностью чего-л., выдаваться вперёд, вверх.',\n",
        "                        'Стоять, размещаться где-л.',\n",
        "                        'Присутствовать, находиться где-л.',\n",
        "                        'Испытывать удовольствие от чего-л.']}"
      ]
    },
    {
      "cell_type": "markdown",
      "id": "42e04047-cfd8-4a6c-a6af-c632b4fb8ee7",
      "metadata": {
        "id": "42e04047-cfd8-4a6c-a6af-c632b4fb8ee7"
      },
      "source": [
        "# 2. Скачиваю датасет постов из твиттера"
      ]
    },
    {
      "cell_type": "code",
      "execution_count": null,
      "id": "7a91dc22-48dd-4a0f-bd39-59d4a6eed286",
      "metadata": {
        "id": "7a91dc22-48dd-4a0f-bd39-59d4a6eed286",
        "outputId": "29179f31-36b0-478d-f77a-0f94866305c4"
      },
      "outputs": [
        {
          "data": {
            "text/plain": [
              "MokoronRecord(\n",
              "    id=408906695721877504,\n",
              "    timestamp=datetime.datetime(2013, 12, 6, 10, 32, 8),\n",
              "    user='Va5ilina',\n",
              "    text='Пропавшая в Хабаровске школьница почти сутки провела в яме у коллектор',\n",
              "    sentiment=2,\n",
              "    replies=0,\n",
              "    retweets=0,\n",
              "    favourites=0,\n",
              "    posts=183,\n",
              "    followers=95,\n",
              "    friends=158,\n",
              "    lists=0\n",
              ")"
            ]
          },
          "execution_count": 7,
          "metadata": {},
          "output_type": "execute_result"
        }
      ],
      "source": [
        "records = load_mokoron('nlp/twitter_db.sql')\n",
        "next(records)"
      ]
    },
    {
      "cell_type": "code",
      "execution_count": null,
      "id": "e8aa9ba9-240c-4b8d-8817-b9ddcd4298ca",
      "metadata": {
        "id": "e8aa9ba9-240c-4b8d-8817-b9ddcd4298ca",
        "outputId": "bba9ac5f-2797-4bdb-b645-e35b8b6907b0"
      },
      "outputs": [
        {
          "name": "stdout",
          "output_type": "stream",
          "text": [
            "2000000 ЛЕНТА, Я СЕГОДНЯ ПОЛГОДА ДИРЕКШИОНЕЕЕЕР! С:\\nХОТЯ ВСЕ РАВНО НИКТО НЕ ПОЗДРАВИТ ЛОЛ\n"
          ]
        }
      ],
      "source": [
        "original_texts = []\n",
        "for i, record in enumerate(records):\n",
        "    original_texts.append(record.text)\n",
        "    if i == 1999999:\n",
        "        break\n",
        "print(len(original_texts), original_texts[0])"
      ]
    },
    {
      "cell_type": "markdown",
      "id": "f2f523a8-d89a-4ebb-a78f-e2e7a79c6518",
      "metadata": {
        "id": "f2f523a8-d89a-4ebb-a78f-e2e7a79c6518"
      },
      "source": [
        "### Чтобы не уснуть, пока всё это будет лемматизироваться, беру только часть датасета (4 млн твитов). Затем склеиваю по 10 000 текстов в одну строку (вставляя между ними разделитель 'ddeelliimmiitteerr'). Это ускорит работу лемматизатора (идею взяла вот тут: https://habr.com/ru/articles/503420/). Потом списки токенов я обратно порежу на исходные тексты с помощью всё того же разделителя. У меня получается 200 таких тексто-колбасок, они сложены в список long_texts"
      ]
    },
    {
      "cell_type": "code",
      "execution_count": null,
      "id": "1c10eebb-e0ca-4f6a-be2b-9126efdbd1d5",
      "metadata": {
        "id": "1c10eebb-e0ca-4f6a-be2b-9126efdbd1d5",
        "outputId": "6c7269e6-e834-4a06-a576-73eda32f8ee8"
      },
      "outputs": [
        {
          "name": "stdout",
          "output_type": "stream",
          "text": [
            "ЛЕНТА, Я СЕГОДНЯ ПОЛГОДА ДИРЕКШИОНЕЕЕЕР! С:\\nХОТЯ ВСЕ РАВНО НИКТО НЕ ПОЗДРАВИТ ЛОЛ ddeelliimmiitteerr Царствие Божие внутрь вас есть. ddeelliimmiitteerr RT @TwitRegion: Ученые: кофе приносит намного б\n"
          ]
        }
      ],
      "source": [
        "long_text_size = 10000\n",
        "chunks = [original_texts[i:i + long_text_size] for i in range(0, len(original_texts), long_text_size)]\n",
        "long_texts = []\n",
        "for chunk in chunks:\n",
        "    long_texts.append(' ddeelliimmiitteerr '.join(chunk))\n",
        "\n",
        "print(long_texts[0][0:200]) #вот так выглядит кусочек строки из склеенных через разделитель текстов"
      ]
    },
    {
      "cell_type": "markdown",
      "id": "40b007f1-8205-4911-beb0-4e8c3affe8c8",
      "metadata": {
        "id": "40b007f1-8205-4911-beb0-4e8c3affe8c8"
      },
      "source": [
        "### Для лемматизации я буду использовать mystem"
      ]
    },
    {
      "cell_type": "code",
      "execution_count": 4,
      "id": "709fc56a-6ad7-485f-a5d9-34aaea80d176",
      "metadata": {
        "id": "709fc56a-6ad7-485f-a5d9-34aaea80d176"
      },
      "outputs": [],
      "source": [
        "import nltk\n",
        "from pymystem3 import Mystem\n",
        "from nltk.corpus import stopwords\n",
        "from string import punctuation\n",
        "import time\n",
        "from tqdm import tqdm"
      ]
    },
    {
      "cell_type": "code",
      "execution_count": 5,
      "id": "859516a9-3e5e-441a-9089-52efc19d40f1",
      "metadata": {
        "colab": {
          "base_uri": "https://localhost:8080/"
        },
        "id": "859516a9-3e5e-441a-9089-52efc19d40f1",
        "outputId": "e47459b1-c4d3-41db-d9ba-fcd2f88fc5ac"
      },
      "outputs": [
        {
          "output_type": "stream",
          "name": "stderr",
          "text": [
            "Installing mystem to /root/.local/bin/mystem from http://download.cdn.yandex.net/mystem/mystem-3.1-linux-64bit.tar.gz\n"
          ]
        }
      ],
      "source": [
        "mystem = Mystem()"
      ]
    },
    {
      "cell_type": "code",
      "execution_count": null,
      "id": "0c594ed9-3c5b-4eff-90f3-50ad3382f68d",
      "metadata": {
        "id": "0c594ed9-3c5b-4eff-90f3-50ad3382f68d",
        "outputId": "cf5f384d-d4f0-4db1-97d8-a001a1d5cdd6"
      },
      "outputs": [
        {
          "name": "stdout",
          "output_type": "stream",
          "text": [
            "['и', 'в', 'во', 'не', 'что', 'он', 'на', 'я', 'с', 'со', 'как', 'а', 'то', 'все', 'она', 'так', 'его', 'но', 'да', 'ты', 'к', 'у', 'же', 'вы', 'за', 'бы', 'по', 'только', 'ее', 'мне', 'было', 'вот', 'от', 'меня', 'еще', 'нет', 'о', 'из', 'ему', 'теперь', 'когда', 'даже', 'ну', 'вдруг', 'ли', 'если', 'уже', 'или', 'ни', 'быть', 'был', 'него', 'до', 'вас', 'нибудь', 'опять', 'уж', 'вам', 'ведь', 'там', 'потом', 'себя', 'ничего', 'ей', 'может', 'они', 'тут', 'где', 'есть', 'надо', 'ней', 'для', 'мы', 'тебя', 'их', 'чем', 'была', 'сам', 'чтоб', 'без', 'будто', 'чего', 'раз', 'тоже', 'себе', 'под', 'будет', 'ж', 'тогда', 'кто', 'этот', 'того', 'потому', 'этого', 'какой', 'совсем', 'ним', 'здесь', 'этом', 'один', 'почти', 'мой', 'тем', 'чтобы', 'нее', 'сейчас', 'были', 'куда', 'зачем', 'всех', 'никогда', 'можно', 'при', 'наконец', 'два', 'об', 'другой', 'хоть', 'после', 'над', 'больше', 'тот', 'через', 'эти', 'нас', 'про', 'всего', 'них', 'какая', 'много', 'разве', 'три', 'эту', 'моя', 'впрочем', 'хорошо', 'свою', 'этой', 'перед', 'иногда', 'лучше', 'чуть', 'том', 'нельзя', 'такой', 'им', 'более', 'всегда', 'конечно', 'всю', 'между', '\\n', ' ', '  ', '', 'http', '://', 't', 'co', '!', '\"', '#', '$', '%', '&', \"'\", '(', ')', '*', '+', ',', '-', '.', '/', ':', ';', '<', '=', '>', '?', '@', '[', '\\\\', ']', '^', '_', '`', '{', '|', '}', '~']\n"
          ]
        }
      ],
      "source": [
        "stopwords = list(stopwords.words('russian'))\n",
        "stopwords.extend(['\\n', ' ', '  ', '', 'http', '://', 't', 'co'])\n",
        "stopwords.extend(punctuation)\n",
        "print(stopwords)"
      ]
    },
    {
      "cell_type": "code",
      "execution_count": null,
      "id": "d3082cef-c24f-4782-8409-4d6fa356b596",
      "metadata": {
        "id": "d3082cef-c24f-4782-8409-4d6fa356b596"
      },
      "outputs": [],
      "source": [
        "def preprocessing(text):\n",
        "    tokens = mystem.lemmatize(text.lower())\n",
        "    tokens = [token for token in tokens if token.strip() not in stopwords]\n",
        "    return tokens"
      ]
    },
    {
      "cell_type": "code",
      "execution_count": null,
      "id": "b63d2481-8b20-4a04-b9a6-86f8ba95e6eb",
      "metadata": {
        "id": "b63d2481-8b20-4a04-b9a6-86f8ba95e6eb",
        "outputId": "b3f6f408-fb00-47b0-9a1d-a7d0c7cd8bae"
      },
      "outputs": [
        {
          "name": "stderr",
          "output_type": "stream",
          "text": [
            "100%|████████████████████████████████████████████████████████████████████████████████| 200/200 [28:43<00:00,  8.62s/it]\n"
          ]
        }
      ],
      "source": [
        "tokenized_texts = []\n",
        "for text in tqdm(long_texts):\n",
        "    tokenized_texts.append(preprocessing(text))\n",
        "    time.sleep(1)"
      ]
    },
    {
      "cell_type": "code",
      "execution_count": null,
      "id": "2a537a84-e5a6-4c68-923b-3e1e0fce0a5a",
      "metadata": {
        "id": "2a537a84-e5a6-4c68-923b-3e1e0fce0a5a",
        "outputId": "f0f74dc8-c4f7-4c1e-d941-bf00bfcabe85"
      },
      "outputs": [
        {
          "data": {
            "text/plain": [
              "200"
            ]
          },
          "execution_count": 15,
          "metadata": {},
          "output_type": "execute_result"
        }
      ],
      "source": [
        "len(tokenized_texts)"
      ]
    },
    {
      "cell_type": "code",
      "execution_count": null,
      "id": "ad813e2f-f8f6-4f81-a1f4-f7aa98766563",
      "metadata": {
        "id": "ad813e2f-f8f6-4f81-a1f4-f7aa98766563",
        "outputId": "0a903ab3-8b5c-494a-d13d-846cb959e5cd"
      },
      "outputs": [
        {
          "name": "stdout",
          "output_type": "stream",
          "text": [
            "['лента', 'сегодня', 'полгода', 'дирекшионеееер', ':\\\\', 'пхотить', 'равный', 'никто', 'поздравлять', 'лола', 'ddeelliimmiitteerr', 'царствие', 'божий', 'внутрь', 'ddeelliimmiitteerr', 'rt', 'twitregion', 'ученый', 'кофе', 'приносить', 'намного', 'вред', 'пиво', 'ddeelliimmiitteerr', 'zzzwylsmon', 'справка', 'адаптация', '5', 'классник', 'ddeelliimmiitteerr', 'взаимныйфоловинг', 'ddeelliimmiitteerr', 'rt', 'v1ka', 'si', 'удивлять', 'маленький', 'девочка', 'который', 'нагло', 'писать', 'знакомиться', 'говорить', 'поздороваться', 'завтра', 'френд', '…', 'ddeelliimmiitteerr', 'rt', 'digger2912', ': \\\\\"', 'угол', 'сидеть', 'погибать', 'голод', '2', 'порция', 'взять', 'хотя', 'жрать', 'хотеть', '\\\\\" :', 'dd', 'gqg6iue2', '…', 'ddeelliimmiitteerr', '7ed9e1k62c', 'виленкин', '6', 'класс', '2006', 'год', 'ответ', 'n', '7ed9e1k62c', 'ddeelliimmiitteerr', 'england', 'artie', 'все-таки', 'сделать', 'это', 'ddeelliimmiitteerr', 'rt', 'yowzah', '_: ', 'ммм', 'ппирожок', 'ловетта', 'пиха', 'обожать', 'весь', 'высокий', 'свет', 'nмм', 'ппирожок', 'ловетта', 'ddeelliimmiitteerr', 'khmzsbzds1', 'современный', 'техника']\n"
          ]
        }
      ],
      "source": [
        "print(tokenized_texts[0][0:100]) #вот так выглядит кусочек списка токенов"
      ]
    },
    {
      "cell_type": "code",
      "execution_count": null,
      "id": "f2c22748-e240-4670-8956-5b3fc7455696",
      "metadata": {
        "id": "f2c22748-e240-4670-8956-5b3fc7455696"
      },
      "outputs": [],
      "source": [
        "def splitter(text, delimiter = 'ddeelliimmiitteerr'):\n",
        "    splitted = [[]]\n",
        "    for item in text:\n",
        "        if item == delimiter:\n",
        "            splitted.append([])\n",
        "        else:\n",
        "            splitted[-1].append(item)\n",
        "    return splitted"
      ]
    },
    {
      "cell_type": "code",
      "execution_count": null,
      "id": "cdee732a-17fe-4101-bb99-6123a7706b5d",
      "metadata": {
        "id": "cdee732a-17fe-4101-bb99-6123a7706b5d",
        "outputId": "c8be967f-ff07-4c85-80c8-8f6fc5e9d835"
      },
      "outputs": [
        {
          "name": "stdout",
          "output_type": "stream",
          "text": [
            "['лента', 'сегодня', 'полгода', 'дирекшионеееер', ':\\\\', 'пхотить', 'равный', 'никто', 'поздравлять', 'лола']\n"
          ]
        }
      ],
      "source": [
        "print(splitter(tokenized_texts[0])[0])"
      ]
    },
    {
      "cell_type": "code",
      "execution_count": null,
      "id": "8307a157-64f0-488c-87a4-1da4bb69e1ec",
      "metadata": {
        "id": "8307a157-64f0-488c-87a4-1da4bb69e1ec",
        "outputId": "8d75d42d-a60a-45f7-e1f9-1f58dd433a3b"
      },
      "outputs": [
        {
          "name": "stderr",
          "output_type": "stream",
          "text": [
            "100%|████████████████████████████████████████████████████████████████████████████████| 200/200 [03:35<00:00,  1.08s/it]\n"
          ]
        }
      ],
      "source": [
        "short_tokenized_texts = []\n",
        "for long_text in tqdm(tokenized_texts):\n",
        "    short_tokenized_texts.extend(splitter(long_text))\n",
        "    time.sleep(1)"
      ]
    },
    {
      "cell_type": "code",
      "execution_count": null,
      "id": "d57e3873-c848-4cb7-b17a-53593c54d5df",
      "metadata": {
        "id": "d57e3873-c848-4cb7-b17a-53593c54d5df",
        "outputId": "617b494b-a07b-4c3b-c984-705f309be882"
      },
      "outputs": [
        {
          "data": {
            "text/plain": [
              "['лента',\n",
              " 'сегодня',\n",
              " 'полгода',\n",
              " 'дирекшионеееер',\n",
              " ':\\\\',\n",
              " 'пхотить',\n",
              " 'равный',\n",
              " 'никто',\n",
              " 'поздравлять',\n",
              " 'лола']"
            ]
          },
          "execution_count": 20,
          "metadata": {},
          "output_type": "execute_result"
        }
      ],
      "source": [
        "short_tokenized_texts[0]"
      ]
    },
    {
      "cell_type": "markdown",
      "id": "5f8c46d7-4c56-4f0c-8980-dee4b6f818b7",
      "metadata": {
        "id": "5f8c46d7-4c56-4f0c-8980-dee4b6f818b7"
      },
      "source": [
        "Оно очень долго лемматизировалось, поэтому сохраняю на всякий случай в файлик"
      ]
    },
    {
      "cell_type": "code",
      "execution_count": 3,
      "id": "fb1b9e69-5a53-4255-8c05-ed884e70a7d8",
      "metadata": {
        "id": "fb1b9e69-5a53-4255-8c05-ed884e70a7d8"
      },
      "outputs": [],
      "source": [
        "import csv"
      ]
    },
    {
      "cell_type": "code",
      "execution_count": null,
      "id": "233fb5e2-3000-4e7b-8d74-0b66cfc8a6b0",
      "metadata": {
        "id": "233fb5e2-3000-4e7b-8d74-0b66cfc8a6b0"
      },
      "outputs": [],
      "source": [
        "with open('short_tokenized_texts', 'w', encoding='utf-8', newline='') as file:\n",
        "    writer = csv.writer(file, delimiter = ',')\n",
        "    for text in short_tokenized_texts:\n",
        "        writer.writerow(text)"
      ]
    },
    {
      "cell_type": "code",
      "execution_count": null,
      "id": "e002ae13-bbeb-430e-adef-d309cb366599",
      "metadata": {
        "id": "e002ae13-bbeb-430e-adef-d309cb366599"
      },
      "outputs": [],
      "source": [
        "with open('original_texts.txt', 'w', encoding='utf-8') as file:\n",
        "    for text in original_texts:\n",
        "        file.write(text)\n",
        "        file.write('textdelimitertext')"
      ]
    },
    {
      "cell_type": "code",
      "execution_count": 25,
      "id": "9e9799d4-17d2-4afe-be81-c7a8fbfc7314",
      "metadata": {
        "id": "9e9799d4-17d2-4afe-be81-c7a8fbfc7314"
      },
      "outputs": [],
      "source": [
        "short_tokenized_texts = []\n",
        "with open('short_tokenized_texts', 'r', encoding='utf-8', newline='') as file:\n",
        "    reader = csv.reader(file, delimiter=',')\n",
        "    for line in reader:\n",
        "        short_tokenized_texts.append(list(line))"
      ]
    },
    {
      "cell_type": "code",
      "execution_count": 27,
      "id": "0c4579d1-b303-4824-9dd0-01bbd3adaefc",
      "metadata": {
        "id": "0c4579d1-b303-4824-9dd0-01bbd3adaefc"
      },
      "outputs": [],
      "source": [
        "original_texts = []\n",
        "with open('original_texts.txt', 'r', encoding='utf-8', newline='') as file:\n",
        "    full = file.read()\n",
        "    original_texts = full.split('textdelimitertext')"
      ]
    },
    {
      "cell_type": "code",
      "source": [
        "print(original_texts[48394], len(original_texts))\n",
        "print(short_tokenized_texts[48394], len(short_tokenized_texts))"
      ],
      "metadata": {
        "colab": {
          "base_uri": "https://localhost:8080/"
        },
        "id": "5yl0W5lWZMW2",
        "outputId": "2976fde4-a6f3-4b72-a6c4-ec720fc80d79"
      },
      "id": "5yl0W5lWZMW2",
      "execution_count": 28,
      "outputs": [
        {
          "output_type": "stream",
          "name": "stdout",
          "text": [
            "лишь перенесение этих чувств на наши чувства к отдельным людям. http://t.co/1V3EGqhrDr 2000001\n",
            "['лишь', 'перенесение', 'чувство', 'наш', 'чувство', 'отдельный', 'человек', '1v3egqhrdr'] 2000000\n"
          ]
        }
      ]
    },
    {
      "cell_type": "code",
      "source": [
        "original_texts = original_texts[0:2000000] #где-то лажанула с циферками, проще всего исправить вот так :)\n",
        "print(len(original_texts))"
      ],
      "metadata": {
        "colab": {
          "base_uri": "https://localhost:8080/"
        },
        "id": "xL_Ljf1wahXm",
        "outputId": "0eb2c424-b881-4c6a-ad23-af5b1415d5e8"
      },
      "id": "xL_Ljf1wahXm",
      "execution_count": 30,
      "outputs": [
        {
          "output_type": "stream",
          "name": "stdout",
          "text": [
            "2000000\n"
          ]
        }
      ]
    },
    {
      "cell_type": "code",
      "execution_count": 31,
      "id": "ec8bcad1-401f-4b07-978d-510b6d53522d",
      "metadata": {
        "id": "ec8bcad1-401f-4b07-978d-510b6d53522d"
      },
      "outputs": [],
      "source": [
        "words = words_dictionary.keys()"
      ]
    },
    {
      "cell_type": "code",
      "execution_count": 54,
      "id": "2c50ae8f-2b4d-4393-94b8-b43c8501df40",
      "metadata": {
        "id": "2c50ae8f-2b4d-4393-94b8-b43c8501df40"
      },
      "outputs": [],
      "source": [
        "def word_finder(word):\n",
        "    texts_w_word = []\n",
        "    for idx, text in enumerate(short_tokenized_texts):\n",
        "        if word in text:\n",
        "            texts_w_word.append([original_texts[idx], short_tokenized_texts[idx]])\n",
        "    return texts_w_word"
      ]
    },
    {
      "cell_type": "code",
      "execution_count": 55,
      "id": "726d4d0b-f732-4162-885b-6f8fa3df084d",
      "metadata": {
        "id": "726d4d0b-f732-4162-885b-6f8fa3df084d"
      },
      "outputs": [],
      "source": [
        "word_entries = {}\n",
        "for word in words:\n",
        "    word_entries[word] = word_finder(word)"
      ]
    },
    {
      "cell_type": "code",
      "execution_count": 56,
      "id": "df603abf-b15b-4693-ba7b-eca47ed16670",
      "metadata": {
        "colab": {
          "base_uri": "https://localhost:8080/"
        },
        "id": "df603abf-b15b-4693-ba7b-eca47ed16670",
        "outputId": "e8bbf42b-beb0-4244-df6e-d594af25e276"
      },
      "outputs": [
        {
          "output_type": "stream",
          "name": "stdout",
          "text": [
            "лук [['RT @naminyvapaq: Без лука ты никто. Обзор 5-й недели в НБА', ['rt', 'naminyvapaq', 'лук', 'никто', 'обзор', '5', 'й', 'неделя', 'нба']], ['Без лука ты никто. Обзор 5-й недели в НБА', ['лук', 'никто', 'обзор', '5', 'й', 'неделя', 'нба']], ['@ausyashnik_eeeh обычный подъезд, у нас соседи-выблядки за стеной лук всегда жарили, так через розетки все к нам шло, розетку залепили в пзд', ['ausyashnik', 'eeeh', 'обычный', 'подъезд', 'сосед', 'выблядок', 'стена', 'лук', 'жарить', 'розетка', 'идти', 'розетка', 'залеплять', 'пзд']], ['а если макарошки отварить и запечь с луком,морковкой,майонезом,чесноком и всякими приправками,будет ОМНОМНОМ! *О* сыра нет,жаль(', ['макарошка', 'отваривать', 'запекать', 'лук', 'морковка', 'майонез', 'чеснок', 'всякий', 'приправка', 'омномный', 'сыр', 'жаль']], ['RT @wunopanivos: Без лука ты никто. Обзор 5-й недели в НБА', ['rt', 'wunopanivos', 'лук', 'никто', 'обзор', '5', 'й', 'неделя', 'нба']]] \n",
            "\n",
            "таз [['знакомая сфоткалась в тазу, в тряпке, сделала руку как супермен, а фон грядочки. уже неделю с лп угораем над фотографией :DDDDDDDD', ['знакомая', 'сфоткаться', 'таз', 'тряпка', 'сделать', 'рука', 'супермен', 'фон', 'грядочка', 'неделя', 'лп', 'угорать', 'фотография', 'dddddddd']], ['постоянно хочется спросить: \\\\\"Супермен, где таз забыл?\\\\\"', ['постоянно', 'хотеться', 'спрашивать', ': \\\\\"', 'супермен', 'таз', 'забывать', '\\\\\" ']], ['@antipinayo тазом катанным обзавелась?', ['antipinayo', 'таз', 'катать', 'обзаводиться']], ['Ты что же поганец делаешь? Совсем новый таз испортил!', ['поганец', 'делать', 'новый', 'таз', 'испортить']], ['Собралась я такая спать, как вдруг вдохновение накрыло медным тазом и заставило снова открыть шестой эпизод.\\\\nБэкхем, мать твою за ногу!', ['собираться', 'спать', 'вдохновение', 'накрывать', 'медный', 'таз', 'заставлять', 'снова', 'открывать', 'шестой', 'эпизод', 'пбэкхем', 'мать', 'твой', 'нога']]] \n",
            "\n",
            "такт [['Такт в дерзости – это умение почувствовать, до какого предела можно зайти слишком далеко.', ['такт', 'дерзость', ' – ', 'умение', 'почувствовать', 'предел', 'зайти', 'слишком', 'далеко']], ['А ещё я с моей одноклассницей в каждом произведении искали такт 69', ['одноклассница', 'каждый', 'произведение', 'искать', 'такт', '69']], ['RT @RockSoulLady: одна группа \\\\nмиллионы сердец бьющихся в такт музыки \\\\nэшелон \\\\nсемья #mtvstars 30 Seconds To Mars http://t.co/Wi7JVjKsI3', ['rt', 'rocksoullady', 'группа', 'пмиллион', 'сердце', 'биться', 'такт', 'музыка', 'пэшелон', 'псемья', 'mtvstars', '30', 'seconds', 'to', 'mars', 'wi7jvjksi3']], ['RT @RockSoulLady: одна группа \\\\nмиллионы сердец бьющихся в такт музыки \\\\nэшелон \\\\nсемья #mtvstars 30 Seconds To Mars http://t.co/Wi7JVjKsI3', ['rt', 'rocksoullady', 'группа', 'пмиллион', 'сердце', 'биться', 'такт', 'музыка', 'пэшелон', 'псемья', 'mtvstars', '30', 'seconds', 'to', 'mars', 'wi7jvjksi3']], ['RT @RockSoulLady: одна группа \\\\nмиллионы сердец бьющихся в такт музыки \\\\nэшелон \\\\nсемья #mtvstars 30 Seconds To Mars http://t.co/Wi7JVjKsI3', ['rt', 'rocksoullady', 'группа', 'пмиллион', 'сердце', 'биться', 'такт', 'музыка', 'пэшелон', 'псемья', 'mtvstars', '30', 'seconds', 'to', 'mars', 'wi7jvjksi3']]] \n",
            "\n",
            "тон [['@konsugar @erewyn я пытаюсь написать корректный ответ без матов и менторского тона, пока получается не очень', ['konsugar', 'erewyn', 'пытаться', 'написать', 'корректный', 'ответ', 'мат', 'менторский', 'тон', 'пока', 'получаться', 'очень']], ['- подожди меня \\\\n- я знаю, - сказала это таким тоном, как будто побьет меня. подождет и побьет.', ['подождать', 'n', 'знать', ', - ', 'сказать', 'это', 'тон', 'побивать', 'подождать', 'побивать']], ['Почему  я так легко решаю чужие проблемы, но в своих тону хуже, чем в болоте?', ['почему', 'легко', 'решать', 'чужой', 'проблема', 'свой', 'тон', 'плохо', 'болото']], ['мне нужно было поговорить с ним именно в таком тоне..заколебали сопли слюни', ['нужно', 'поговорить', 'именно', 'тон', '..', 'заколебать', 'сопли', 'слюни']], ['Спорила с мужем \\\\\"на повышенных тонах\\\\\". Он вдруг замолчал. Как теперь понять, то ли он решил, что я права,.. http://t.co/PKJlCmucSg', ['спорить', 'муж', ' \\\\\"', 'повышенный', 'тон', '\\\\\"', 'замалчивать', 'понимать', 'решать', 'правый', '..', 'pkjlcmucsg']]] \n",
            "\n",
            "торчать [['RT @echelon0599: открываю свой дневник а там торчит пизда,представляете', ['rt', 'echelon0599', 'открывать', 'свой', 'дневник', 'торчать', 'пизда', 'представлять']], ['Меня одну раздражает, что из-под снега торчит зеленая трава &gt;&lt;', ['раздражать', 'из-под', 'снег', 'торчать', 'зеленый', 'трава', 'gt', ';&', 'lt']], ['вчера полтора часа торчали в актовом зале, смотрели оч весёлый фильмец про наркомановалкоголиковпроституток. и отца ивана слюшали. ко ко', ['вчера', 'полтора', 'час', 'торчать', 'актовый', 'зал', 'смотреть', 'оч', 'веселый', 'фильмец', 'наркомановалкоголиковпроститутка', 'отец', 'иван', 'слюшали', 'ко', 'ко']], ['@Shtoblyat1 @KsuhaYellow ооооу бля=( у тебя там член в углу торчит, ну нахуя??', ['shtoblyat1', 'ksuhayellow', 'ооооу', 'бля', '=( ', 'член', 'угол', 'торчать', 'нахуя', '??']], ['RT @Loner69_69: Тупо,когда бабы на фотках показывают факи. А еще больше тупее,когда у них кривой длинный палец торчит из толстого кулака, п…', ['rt', 'loner69', '69', 'тупо', 'баба', 'фотка', 'показывать', 'фак', 'тупой', 'кривой', 'длинный', 'палец', 'торчать', 'толстый', 'кулак', 'п', '…']]] \n",
            "\n"
          ]
        }
      ],
      "source": [
        "for key, value in word_entries.items():\n",
        "    print(key, value[:5], '\\n')"
      ]
    },
    {
      "cell_type": "markdown",
      "source": [
        "# 3. Adagram"
      ],
      "metadata": {
        "id": "CRg0__82UrOe"
      },
      "id": "CRg0__82UrOe"
    },
    {
      "cell_type": "code",
      "source": [
        "pip install Cython numpy"
      ],
      "metadata": {
        "colab": {
          "base_uri": "https://localhost:8080/"
        },
        "id": "HAifYkKZfIZd",
        "outputId": "4a45ac3a-3fbe-456d-8e49-09271084f59e"
      },
      "id": "HAifYkKZfIZd",
      "execution_count": 42,
      "outputs": [
        {
          "output_type": "stream",
          "name": "stdout",
          "text": [
            "Requirement already satisfied: Cython in /usr/local/lib/python3.10/dist-packages (3.0.6)\n",
            "Requirement already satisfied: numpy in /usr/local/lib/python3.10/dist-packages (1.23.5)\n"
          ]
        }
      ]
    },
    {
      "cell_type": "code",
      "execution_count": 35,
      "id": "a1c1cf3d-24e3-4736-b30d-e183ad5eeeae",
      "metadata": {
        "colab": {
          "base_uri": "https://localhost:8080/"
        },
        "id": "a1c1cf3d-24e3-4736-b30d-e183ad5eeeae",
        "outputId": "e82bcf45-8b34-4dd9-ead0-e11863c15ac1"
      },
      "outputs": [
        {
          "output_type": "stream",
          "name": "stdout",
          "text": [
            "Collecting git+https://github.com/lopuhin/python-adagram.git\n",
            "  Cloning https://github.com/lopuhin/python-adagram.git to /tmp/pip-req-build-ldvfdq0i\n",
            "  Running command git clone --filter=blob:none --quiet https://github.com/lopuhin/python-adagram.git /tmp/pip-req-build-ldvfdq0i\n",
            "  Resolved https://github.com/lopuhin/python-adagram.git to commit cf3639f10d6a1efbcb602f45a1da89ef55ce5794\n",
            "  Preparing metadata (setup.py) ... \u001b[?25l\u001b[?25hdone\n",
            "Requirement already satisfied: cython in /usr/local/lib/python3.10/dist-packages (from adagram==0.0.1) (3.0.6)\n",
            "Requirement already satisfied: joblib in /usr/local/lib/python3.10/dist-packages (from adagram==0.0.1) (1.3.2)\n",
            "Requirement already satisfied: numpy>=1.9 in /usr/local/lib/python3.10/dist-packages (from adagram==0.0.1) (1.23.5)\n",
            "Requirement already satisfied: six in /usr/local/lib/python3.10/dist-packages (from adagram==0.0.1) (1.16.0)\n",
            "Building wheels for collected packages: adagram\n",
            "  Building wheel for adagram (setup.py) ... \u001b[?25l\u001b[?25hdone\n",
            "  Created wheel for adagram: filename=adagram-0.0.1-cp310-cp310-linux_x86_64.whl size=686336 sha256=90baff7369ce459256151ee89f9817b6f98ea8f54c5d1b6477919049bf7db9d4\n",
            "  Stored in directory: /tmp/pip-ephem-wheel-cache-ylre99cg/wheels/88/8b/fc/291709600177e98c9bba397433476b87d894ca506e78302432\n",
            "Successfully built adagram\n",
            "Installing collected packages: adagram\n",
            "Successfully installed adagram-0.0.1\n"
          ]
        }
      ],
      "source": [
        "!pip install git+https://github.com/lopuhin/python-adagram.git"
      ]
    },
    {
      "cell_type": "code",
      "source": [
        "!curl \"https://s3.amazonaws.com/kostia.lopuhin/all.a010.p10.d300.w5.m100.nonorm.slim.joblib\" > all.a010.p10.d300.w5.m100.nonorm.slim.joblib"
      ],
      "metadata": {
        "colab": {
          "base_uri": "https://localhost:8080/"
        },
        "id": "B2EkPFwZfXii",
        "outputId": "3968a503-b28b-4616-f9da-20593754cb8f"
      },
      "id": "B2EkPFwZfXii",
      "execution_count": 37,
      "outputs": [
        {
          "output_type": "stream",
          "name": "stdout",
          "text": [
            "  % Total    % Received % Xferd  Average Speed   Time    Time     Time  Current\n",
            "                                 Dload  Upload   Total   Spent    Left  Speed\n",
            "100 1394M  100 1394M    0     0  44.2M      0  0:00:31  0:00:31 --:--:-- 47.1M\n"
          ]
        }
      ]
    },
    {
      "cell_type": "code",
      "execution_count": 169,
      "id": "23dc4405-05f9-4939-96c9-ba2d59184539",
      "metadata": {
        "id": "23dc4405-05f9-4939-96c9-ba2d59184539"
      },
      "outputs": [],
      "source": [
        "import adagram\n",
        "import pandas as pd\n",
        "import numpy as np\n",
        "import pprint\n",
        "pp = pprint.PrettyPrinter(indent=4)"
      ]
    },
    {
      "cell_type": "code",
      "execution_count": 171,
      "id": "ee6e0956-abed-4b04-a392-155bddb13ba3",
      "metadata": {
        "id": "ee6e0956-abed-4b04-a392-155bddb13ba3"
      },
      "outputs": [],
      "source": [
        "vm = adagram.VectorModel.load('all.a010.p10.d300.w5.m100.nonorm.slim.joblib')"
      ]
    },
    {
      "cell_type": "code",
      "execution_count": 172,
      "id": "7415f692-f3f3-4c48-97c0-ce9402f1b564",
      "metadata": {
        "colab": {
          "base_uri": "https://localhost:8080/"
        },
        "id": "7415f692-f3f3-4c48-97c0-ce9402f1b564",
        "outputId": "c34b4bc3-8af3-477d-80c6-c783ba0a4fef"
      },
      "outputs": [
        {
          "output_type": "stream",
          "name": "stdout",
          "text": [
            "лук [(0, 0.27467387333364635), (1, 0.17510064513645113), (2, 0.25182447428150506), (3, 0.0852764349918363), (4, 0.2131232975158767)]\n",
            "таз [(0, 0.3090465121813698), (1, 0.5411736692478084), (2, 0.010935272052302873), (3, 0.13883941377195283)]\n",
            "такт [(0, 0.5839807974058925), (1, 0.22251124185169976), (2, 0.19350381193147648)]\n",
            "тон [(0, 0.5003589738557619), (1, 0.19110443705896477), (2, 0.07183727112253462), (3, 0.2366986071800232)]\n",
            "торчать [(0, 0.2462484294440683), (1, 0.18975992258666605), (2, 0.2858422026348257), (3, 0.2383622314186124), (4, 0.0397857781051299)]\n"
          ]
        }
      ],
      "source": [
        "for word in words:\n",
        "    w_sense_p = vm.word_sense_probs(word)\n",
        "    print(word, w_sense_p)"
      ]
    },
    {
      "cell_type": "code",
      "source": [
        "def context_probability(word):\n",
        "    '''\n",
        "    предсказывает значение слова в определенном контексте\n",
        "    применяется в цикле по всем контекстам для каждого слова (ниже)\n",
        "    '''\n",
        "    word_contexts = {}\n",
        "    contexts = word_entries[word]\n",
        "    for orig, lemmas in contexts:\n",
        "        sent_list = [lemma for lemma in lemmas if lemma != word]\n",
        "        means = vm.disambiguate(word, sent_list)\n",
        "        word_contexts[orig] = np.argmax(means)\n",
        "    return word_contexts"
      ],
      "metadata": {
        "id": "dBpDwfu9kOT0"
      },
      "id": "dBpDwfu9kOT0",
      "execution_count": 173,
      "outputs": []
    },
    {
      "cell_type": "code",
      "source": [
        "'''\n",
        "adagram_predictions - словарь, в котором каждому слову соответсвует большой список.\n",
        "каждый элемент этого большого списка - списочек из оригинального и лемматизированного контекстов\n",
        "'''\n",
        "adagram_predictions = {}\n",
        "for word in words:\n",
        "    adagram_predictions[word] = context_probability(word)"
      ],
      "metadata": {
        "colab": {
          "base_uri": "https://localhost:8080/"
        },
        "id": "gQI1s-RQjqJT",
        "outputId": "032517c4-0433-4de5-e8ba-947a5526dd38"
      },
      "id": "gQI1s-RQjqJT",
      "execution_count": 174,
      "outputs": [
        {
          "output_type": "stream",
          "name": "stderr",
          "text": [
            "/usr/local/lib/python3.10/dist-packages/adagram/model.py:171: RuntimeWarning: divide by zero encountered in log\n",
            "  z = np.log(z)\n"
          ]
        }
      ]
    },
    {
      "cell_type": "code",
      "execution_count": null,
      "id": "64fdd1a2-2db2-4bef-9dd7-791e1bc7628e",
      "metadata": {
        "id": "64fdd1a2-2db2-4bef-9dd7-791e1bc7628e"
      },
      "outputs": [],
      "source": [
        "'''\n",
        "этот цикл проходится по словарным определениям значений и присваивает им нпредсказания модели\n",
        "'''\n",
        "dictionary_predictions = {}\n",
        "for article in words_dictionary.items():\n",
        "    meaning_predictions = {}\n",
        "    word, meanings = article\n",
        "    for meaning in meanings:\n",
        "        meaning_tokens = mystem.lemmatize(meaning.lower())\n",
        "        means = vm.disambiguate(word, meaning_tokens)\n",
        "        meaning_predictions[meaning] = np.argmax(means)\n",
        "    dictionary_predictions[word] = meaning_predictions\n",
        "dictionary_predictions"
      ]
    },
    {
      "cell_type": "markdown",
      "source": [
        "#### Предположим, я выбрала следующие значения:\n",
        "    лук:\n",
        "    1) огородное растение - 0\n",
        "    2) оружие - 4\n",
        "\n",
        "    таз:\n",
        "    1) медицинсоке понятие - 0\n",
        "\n",
        "    такт:\n",
        "    1) метрическая муз. единица - 2\n",
        "    2) чувство меры в поведении - 1\n",
        "\n",
        "    тон:\n",
        "    1) муз. звук определённой высоты - 2\n",
        "    2) манера, стиль общения, письма, повествования - 3\n",
        "    3) оттенок - 1\n",
        "\n",
        "    торчать:\n",
        "    1) возвышаться, выступать над поверхностью - 0\n",
        "    2) находиться где-либо - 3"
      ],
      "metadata": {
        "id": "vb-T2cLnJBky"
      },
      "id": "vb-T2cLnJBky"
    },
    {
      "cell_type": "code",
      "source": [],
      "metadata": {
        "id": "wD0wWF1nbU2Q"
      },
      "id": "wD0wWF1nbU2Q",
      "execution_count": null,
      "outputs": []
    },
    {
      "cell_type": "code",
      "source": [
        "new_words_dictionary = {'лук': [0, 4], 'таз': [0], 'такт': [1, 2], 'тон': [1, 2, 3], 'торчать': [0, 3]}"
      ],
      "metadata": {
        "id": "7qLoW9sTKoqm"
      },
      "id": "7qLoW9sTKoqm",
      "execution_count": 176,
      "outputs": []
    },
    {
      "cell_type": "code",
      "source": [
        "'''\n",
        "две функции ниже позволя.т выбрать пять контекстов, которым модель сделала те же предсказания,\n",
        "что и выбранным мной толкованиям из словаря\n",
        "'''\n",
        "def contexts_finder(word):\n",
        "    contexts_for_evaluation = []\n",
        "    for meaning_id in new_words_dictionary[word]:\n",
        "        five_contexts = sub_contexts_finder(word, meaning_id)\n",
        "        contexts_for_evaluation.append(five_contexts)\n",
        "    result = {}\n",
        "    result[word] = contexts_for_evaluation\n",
        "    return result\n",
        "\n",
        "def sub_contexts_finder(word, mean_id):\n",
        "    five_contexts = []\n",
        "    for context, pred_id in adagram_predictions[word].items():\n",
        "        if len(five_contexts) < 5:\n",
        "            if pred_id == mean_id:\n",
        "                five_contexts.append(context)\n",
        "    result = {}\n",
        "    result[mean_id] = five_contexts\n",
        "    return result"
      ],
      "metadata": {
        "id": "ECe9pRlwLJW0"
      },
      "id": "ECe9pRlwLJW0",
      "execution_count": 177,
      "outputs": []
    },
    {
      "cell_type": "code",
      "source": [
        "for word in new_words_dictionary.keys():\n",
        "    print(contexts_finder(word))"
      ],
      "metadata": {
        "colab": {
          "base_uri": "https://localhost:8080/"
        },
        "id": "OGqajrvWLUNU",
        "outputId": "9ce5ed1d-c8fd-4bda-a891-020851a06764"
      },
      "id": "OGqajrvWLUNU",
      "execution_count": 180,
      "outputs": [
        {
          "output_type": "stream",
          "name": "stdout",
          "text": [
            "{'лук': [{0: ['http://t.co/Q7VohWcXKM внешки для лука в pw', 'Салат из редиски с сыром, яблоком и зеленым луком. | Рецепты салатов и закусок http://t.co/cuZWtKxSOX', '#кулинарное Овощной плов с перцем: Ингредиенты: 2 стакана риса, 3 сладких перца, 4 шт. репчатых лука, 1 ст.... http://t.co/KvLf5SAslB #едим', 'http://t.co/00U1aNO4ZY внешки для лука в pw\\\\n http://t.co/00U1aNO4ZY', '@PRroom курица лук вода!:)) http://t.co/tpDOSxdO9s']}, {4: ['нашла крутого блоггера. в каждом луке присутствует черное, никогда не видела такого кол-ва черной одежды', 'RT @bebimynikage: Найду себе лука, стану Купидоном... Ну тогда держитесь...', '#лук Красивые девушки на каблуках', '@faggot_sykes если ты мне сейчас не ответишь, я выстрелю в тебя из лука аки огненная Китнисс :-)', 'какой уровень нужен чтобы зачаровать лук на бесконечность http://t.co/Nlj6nl6lCT']}]}\n",
            "{'таз': [{0: ['узкий таз.акушерство.национальное руководство.аламазян http://t.co/iNiN9A1RXR', 'Бейбiт Ыстыбаев таза женiс! Kaz 4 - Mgl 1.  Жеңісіміз құтты болсын ағайын!', '#Baekhyun ~ /  / двигай тазом хд http://t.co/FHvrBudSE4', 'RT @ipokorawna: Сегодняшняя тема — ВЗОМТ (воспалительные заболевания органов малого таза). Лекция прекрасна чуть более, чем полностью. Хо', '@LudaLike Перегиб желчного пузыря.\\\\n и это только УЗИ брюшной полости, представляю что будет на УЗИ малого таза т.т']}]}\n",
            "{'такт': [{1: ['Такт в дерзости – это умение почувствовать, до какого предела можно зайти слишком далеко.', 'ТАКТ - способность закрыть свой рот до того, как кому - нибудь захочется этого.', 'Женщины и лисы, как существа слабые, отличаются превосходным тактом.', 'Дэн Стивенс -  Британская сдержанность и такт - это... http://t.co/BdDuExU2Md', 'Такт - умение описать других так, как они видят себя сами. http://t.co/y2GAAMv91V']}, {2: ['А ещё я с моей одноклассницей в каждом произведении искали такт 69', 'Когда до взрыва ровно такт', 'Музыка ужасна, когда ни такта в ней, ни меры нет.', 'RT @TPIADA_DEHHN: Эшелон - это когда сердце бьется в такт барабанов Шеннона\\\\n#mtvstars 30 seconds to Mars http://t.co/MzJOj6P6Bj', 'ах да. музыка здесь охуенно оригинальна. Берется такт. 25 раз подряд прокручивается. потом к нему придумывается \\\\\"переход\\\\\"']}]}\n",
            "{'тон': [{1: ['Зима для того и создана в белых тонах, чтобы начинать свою жизнь с белого листа.', '@LVikeey сделай нижние волосы темными, а верхние более светлыми, корни на 2-3 см того же тона, что и нижние волосы)', 'ты меня попугай твое тело всплывет гамно не тоне тебе надо знать это....', 'RT @mefihiteteza: Специально для   фото моей комнаты в красных тонах. Придумывали, вырезали и клеили сами с мамой :)', 'моего счастья самые красивые глазки!!!))) Они голубые и я в них тону!))) http://t.co/tWUplExMha']}, {2: ['На плоту, на плаву, на борту, но я путь к ней найду ли?Ultima Thule!\\\\nЯ плыву, как в бреду, я тону и бреду на ходулях к Ultima Thule! #оксик', 'Чем выше тон, тем ниже уровень спора.', 'Газовый гигант Солнечной системы задает тон по неустойчивости атмосферы', 'В тон докладу @ki_zu, эпический ишью длительностью 9 месяцев https://t.co/5swKpW8Ghl Ментейнер начал двигаться только после форка. #wstdays', '@Mixasha для меня воскл.знак-знак повышения тона на меня']}, {3: ['@konsugar @erewyn я пытаюсь написать корректный ответ без матов и менторского тона, пока получается не очень', 'мне нужно было поговорить с ним именно в таком тоне..заколебали сопли слюни', 'Правила хорошего тона: как вести себя на корпоративной вечеринке', 'Из правил хорошего тона: руку помощи надо подавать первым. http://t.co/BNu0jV7zS5', 'Вчера из магазина было похищено 18 тон киндер сюрпризов. Судя по почерку преступника, он учится в третьем классе.']}]}\n",
            "{'торчать': [{0: ['Меня одну раздражает, что из-под снега торчит зеленая трава &gt;&lt;', 'Куст - это совокупность веток и листьев, торчащих из одного места.', 'тебя несут покойным кортежем, а у тебя из гроба только нос торчит. бледный и восковой нос.', 'То ужасное чувство,когда между плакатами торчит тупой светильник!!!!!#тлен', 'Каждому дураку ясно, что будь земля круглой, у китайцев косы торчали бы перпендикулярно вверх, а не висели бы вдоль спины']}, {3: ['RT @echelon0599: открываю свой дневник а там торчит пизда,представляете', 'вчера полтора часа торчали в актовом зале, смотрели оч весёлый фильмец про наркомановалкоголиковпроституток. и отца ивана слюшали. ко ко', 'Чуваки, кто на марсов идет в марте и билеты будет брать в ближайшее время? = \\\\nА то мне лень одной там торчать в толпе хд', 'домой хочется, а ещё тут 13 дней торчать;(', 'мы хотим что бы люди принемали нас,такими какие мы есть.. и часами торчим перед зеркалом.\\xa0#AutoFollowBack']}]}\n"
          ]
        }
      ]
    },
    {
      "cell_type": "code",
      "source": [
        "'''\n",
        "ручками пишу новый словарь, в котором будет такая структура:\n",
        "\n",
        "{\n",
        "    word:[0, 1, 1, 0, 0],\n",
        "    word:[0, 1, 0, 1, 1, 1, 0, 0, 1, 1], ...\n",
        "}\n",
        "'''"
      ],
      "metadata": {
        "colab": {
          "base_uri": "https://localhost:8080/",
          "height": 35
        },
        "id": "Vph-sf4_M825",
        "outputId": "6d8a0622-e51a-4b28-b877-f32b0967fca4"
      },
      "id": "Vph-sf4_M825",
      "execution_count": 181,
      "outputs": [
        {
          "output_type": "execute_result",
          "data": {
            "text/plain": [
              "'\\nручками пишу новые похожие на сверху словари, в которых будет такая структура:\\n{\\n    word: (предсказание модели, мое предсказание)\\n}\\n'"
            ],
            "application/vnd.google.colaboratory.intrinsic+json": {
              "type": "string"
            }
          },
          "metadata": {},
          "execution_count": 181
        }
      ]
    },
    {
      "cell_type": "code",
      "source": [
        "to_evaluate = {\n",
        "    'лук': [0, 1, 1, 0, 1, 0, 1, 0, 1, 1],\n",
        "    'таз': [1, 1, 1, 1, 1],\n",
        "    'такт': [1, 1, 1, 1, 1, 1, 1, 1, 1, 1],\n",
        "    'тон': [1, 1, 0, 1, 0, 0, 0, 0, 0, 0, 1, 1, 1, 1, 0],\n",
        "    'торчать': [1, 1, 1, 1, 1, 0, 1, 1, 1, 1]\n",
        "}"
      ],
      "metadata": {
        "id": "SsIs7kJtZQ5A"
      },
      "id": "SsIs7kJtZQ5A",
      "execution_count": 182,
      "outputs": []
    },
    {
      "cell_type": "code",
      "source": [
        "def accuracy(eval_dict):\n",
        "    words_accuracies = []\n",
        "    for word, evals in eval_dict.items():\n",
        "        word_acc = {}\n",
        "        word_acc[word] = (sum(evals)/len(evals))\n",
        "        words_accuracies.append(word_acc)\n",
        "    return words_accuracies"
      ],
      "metadata": {
        "id": "LBPOpyKLdBnr"
      },
      "id": "LBPOpyKLdBnr",
      "execution_count": 185,
      "outputs": []
    },
    {
      "cell_type": "code",
      "source": [
        "accuracy(to_evaluate)"
      ],
      "metadata": {
        "colab": {
          "base_uri": "https://localhost:8080/"
        },
        "id": "VR2sgsbMdO4N",
        "outputId": "0865970a-4b7f-490a-a792-77954535715c"
      },
      "id": "VR2sgsbMdO4N",
      "execution_count": 186,
      "outputs": [
        {
          "output_type": "execute_result",
          "data": {
            "text/plain": [
              "[{'лук': 0.6},\n",
              " {'таз': 1.0},\n",
              " {'такт': 1.0},\n",
              " {'тон': 0.4666666666666667},\n",
              " {'торчать': 0.9}]"
            ]
          },
          "metadata": {},
          "execution_count": 186
        }
      ]
    },
    {
      "cell_type": "code",
      "source": [],
      "metadata": {
        "id": "8PSjsN3qdR7h"
      },
      "id": "8PSjsN3qdR7h",
      "execution_count": null,
      "outputs": []
    }
  ],
  "metadata": {
    "kernelspec": {
      "display_name": "Python 3 (ipykernel)",
      "language": "python",
      "name": "python3"
    },
    "language_info": {
      "codemirror_mode": {
        "name": "ipython",
        "version": 3
      },
      "file_extension": ".py",
      "mimetype": "text/x-python",
      "name": "python",
      "nbconvert_exporter": "python",
      "pygments_lexer": "ipython3",
      "version": "3.10.11"
    },
    "colab": {
      "provenance": []
    }
  },
  "nbformat": 4,
  "nbformat_minor": 5
}