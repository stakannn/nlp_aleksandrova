{
  "nbformat": 4,
  "nbformat_minor": 0,
  "metadata": {
    "colab": {
      "provenance": []
    },
    "kernelspec": {
      "name": "python3",
      "display_name": "Python 3"
    },
    "language_info": {
      "name": "python"
    }
  },
  "cells": [
    {
      "cell_type": "markdown",
      "source": [
        "## Александрова Анна Антоновна"
      ],
      "metadata": {
        "id": "O2crlrc2s9vq"
      }
    },
    {
      "cell_type": "markdown",
      "source": [
        "# 1. Скачиваем аудио и субтитры с помощью библиотеки yt_dlp"
      ],
      "metadata": {
        "id": "-uvZQSuu02HT"
      }
    },
    {
      "cell_type": "code",
      "source": [
        "pip install yt_dlp"
      ],
      "metadata": {
        "id": "gBu9eiKWb0hu"
      },
      "execution_count": null,
      "outputs": []
    },
    {
      "cell_type": "code",
      "execution_count": 7,
      "metadata": {
        "id": "ehWAAQ0NSL6e"
      },
      "outputs": [],
      "source": [
        "import yt_dlp\n",
        "import webvtt"
      ]
    },
    {
      "cell_type": "code",
      "source": [
        "ydl_opts = {\n",
        "    'format': 'm4a/bestaudio/best',\n",
        "    'postprocessors': [{'key': 'FFmpegExtractAudio', 'preferredcodec': 'wav'}],\n",
        "    'writeautomaticsub': True,\n",
        "    'extract_audio': True,\n",
        "    'quiet': True}\n",
        "with yt_dlp.YoutubeDL(ydl_opts) as ydl:\n",
        "    ydl.download(['https://www.youtube.com/watch?v=bgAH0uK4nZ4'])"
      ],
      "metadata": {
        "colab": {
          "base_uri": "https://localhost:8080/"
        },
        "id": "lskTW3KXZaDP",
        "outputId": "b40c5036-797b-4f03-b571-148821f783e6"
      },
      "execution_count": 22,
      "outputs": [
        {
          "output_type": "stream",
          "name": "stdout",
          "text": []
        }
      ]
    },
    {
      "cell_type": "code",
      "source": [
        "pip install webvtt-py"
      ],
      "metadata": {
        "id": "U2l2q2nFZ9WM"
      },
      "execution_count": null,
      "outputs": []
    },
    {
      "cell_type": "code",
      "source": [
        "subtitles = []\n",
        "for i, caption in enumerate(webvtt.read('A tiny lesson on Kunekune Pigs [bgAH0uK4nZ4].en.vtt')):\n",
        "    subtitles.append(caption.text.strip())\n",
        "\n",
        "### не особо понимаю, почему, но фразы дублируются в файле .en.vtt:\n",
        "print(subtitles[0:5])\n",
        "\n",
        "### поэтому перезаписываем список subtitles вот так:\n",
        "subtitles = [i for i in subtitles[1:-1:2]]\n",
        "subtitles = ' '.join(subtitles)\n",
        "subtitles"
      ],
      "metadata": {
        "colab": {
          "base_uri": "https://localhost:8080/",
          "height": 194
        },
        "id": "WxmRCW_cw9ux",
        "outputId": "5318ac37-6cda-4365-edb6-49fb6590c393"
      },
      "execution_count": 58,
      "outputs": [
        {
          "output_type": "stream",
          "name": "stdout",
          "text": [
            "['Hoshi has managed to find the largest', 'Hoshi has managed to find the largest', \"Hoshi has managed to find the largest\\ncrab apple I've ever seen around here\", \"crab apple I've ever seen around here\", \"crab apple I've ever seen around here\\nand he's certainly not willing to share\"]\n"
          ]
        },
        {
          "output_type": "execute_result",
          "data": {
            "text/plain": [
              "\"Hoshi has managed to find the largest crab apple I've ever seen around here and he's certainly not willing to share it either last week he had the area all to himself but he doesn't have that luxury right now and actually crab apples are very tough to eat and it's a fact that I think the big man from Japan is learning right now meanwhile the others have decided that many small apples is the best route forward and I personally agree with this strategy I think you could intake more Apple by chewing on lots of small objects as opposed to trying to break a large one down and while we've got them on this side of the fence it gives us a very small glimpse about what life would have been like for their ancestors these guys are Cooney Cooney picks and they're great great great great great great great great great great great great grandparents lived in the forest of New Zealand and so foraging in Woodland comes very naturally to these races kunikunis are also one of the smallest breeds in the world but that does not not mean they stayed this small forever in fact they still grow at least half the size of most other breeds of pigs and that means they can grow as much as 80 100 kilograms even more and so the only reason why these five are so small is because they are young but I think we're starting to see why they grow so big they certainly don't have any guilt about intaking this much sugar in one sitting thank God there's no such thing as Pig diabetes\""
            ],
            "application/vnd.google.colaboratory.intrinsic+json": {
              "type": "string"
            }
          },
          "metadata": {},
          "execution_count": 58
        }
      ]
    },
    {
      "cell_type": "code",
      "source": [
        "wav_file = '/content/A tiny lesson on Kunekune Pigs [bgAH0uK4nZ4].wav'"
      ],
      "metadata": {
        "id": "D0mP-XA7J3Fp"
      },
      "execution_count": 34,
      "outputs": []
    },
    {
      "cell_type": "markdown",
      "source": [
        "# 2. Выбираем системы ASR: whisper и google (из SpeechRecognition), Facebook's Wav2Vec2 (Transformers)"
      ],
      "metadata": {
        "id": "kwlqtVLb1B88"
      }
    },
    {
      "cell_type": "code",
      "source": [
        "pip install SpeechRecognition"
      ],
      "metadata": {
        "id": "O7RqUaAixO0G"
      },
      "execution_count": null,
      "outputs": []
    },
    {
      "cell_type": "code",
      "source": [
        "pip install git+https://github.com/openai/whisper.git soundfile"
      ],
      "metadata": {
        "id": "qL6K_Rza6OEk"
      },
      "execution_count": null,
      "outputs": []
    },
    {
      "cell_type": "code",
      "source": [
        "import speech_recognition as sr"
      ],
      "metadata": {
        "id": "aMhGWZvI5uGR"
      },
      "execution_count": 24,
      "outputs": []
    },
    {
      "cell_type": "code",
      "source": [
        "r = sr.Recognizer()\n",
        "with sr.AudioFile(wav_file) as source:\n",
        "    audio = r.record(source)"
      ],
      "metadata": {
        "id": "4WTFUVk85ui_"
      },
      "execution_count": 35,
      "outputs": []
    },
    {
      "cell_type": "code",
      "source": [
        "whisper_res = r.recognize_whisper(audio)\n",
        "whisper_res"
      ],
      "metadata": {
        "colab": {
          "base_uri": "https://localhost:8080/",
          "height": 157
        },
        "id": "OtUgEl9i5_v9",
        "outputId": "5fbf1f6d-5043-45d8-ed0b-3ec8b8aac191"
      },
      "execution_count": 39,
      "outputs": [
        {
          "output_type": "execute_result",
          "data": {
            "text/plain": [
              "\" Hoshi has managed to find the largest crab apple I've ever seen around here, and he's certainly not willing to share it either. Last week he had the area all to himself, but he doesn't have that luxury right now. And actually, crab apples are very tough to eat, and it's a fact that I think the big man from Japan is learning right now. Meanwhile, the others have decided that many small apples is the best route forward, and I personally agree with this strategy. I think you can intake more apple by chewing on lots of small objects, as opposed to trying to break a large one down. And while we've got them on this side of the fence, it gives us a very small glimpse about what life would have been like for their ancestors. These guys are Cuny Cunypix, and their great great great great great great great great great great great grandparents, lived in the forests of New Zealand, and so foraging in woodland comes very naturally to these races. Cuny Cunypix are also one of the smallest breeds in the world, but that does not mean they stay this small forever. In fact, they still grow at least half the size of most other breeds of pigs, and that means they can grow as much as 80 or 100 kilograms even more. And so the only reason why these five are so small is because they are young, but I think we're starting to see why they grow so big. They certainly don't have any guilt about intaking this much sugar in one sitting. Thank God there's no such thing as pig diabetes. Anyway, on to race three.\""
            ],
            "application/vnd.google.colaboratory.intrinsic+json": {
              "type": "string"
            }
          },
          "metadata": {},
          "execution_count": 39
        }
      ]
    },
    {
      "cell_type": "code",
      "source": [
        "google_res = r.recognize_google(audio)\n",
        "google_res"
      ],
      "metadata": {
        "colab": {
          "base_uri": "https://localhost:8080/",
          "height": 157
        },
        "id": "DqjonrGc6BO7",
        "outputId": "db11a105-941b-4424-a2d8-074dde3c3476"
      },
      "execution_count": 40,
      "outputs": [
        {
          "output_type": "execute_result",
          "data": {
            "text/plain": [
              "\"how she has managed to find the largest Crabapple I've ever seen around here and he certainly not willing to share it either last week he had the area all to himself but he doesn't have that luxury right now and actually crab apples are very tough to eat and it's a fact that I think the big man from Japan is learning right now meanwhile the others have decided that many small apples is the best route forward and I personally agree with this strategy I think you can take more apples by chewing on lots of small objects as to try to break a large one down and while we've got them on this side of the fence it gives us a very small glimpse about what life would have been like for their ancestors these guys are coming pics and they're great great great great great great great great great great great great great great great great great great great great great great great great great great great great great great great great great great great great great great great great grandparents lived in the forest of New Zealand and so foraging in Woodland comes very naturally to these races Cooney's are awesome one of the smallest breeds in the world but that does not mean they stayed this more forever in fact they still grow at least half the size of most other breeds of pigs and that means they can grow as much as 880 or 100 kg even more and so the only reason why these five are so small is because they are young but I think we're starting to see why they grow so big they certainly don't have any guilt about in taking this much sugar in one city thank God there's no such thing as pink diabetes anyway Entourage three\""
            ],
            "application/vnd.google.colaboratory.intrinsic+json": {
              "type": "string"
            }
          },
          "metadata": {},
          "execution_count": 40
        }
      ]
    },
    {
      "cell_type": "code",
      "source": [
        "pip install transformers datasets evaluate jiwer"
      ],
      "metadata": {
        "id": "DpLMAoa8HQSe"
      },
      "execution_count": null,
      "outputs": []
    },
    {
      "cell_type": "code",
      "source": [
        "from transformers import pipeline"
      ],
      "metadata": {
        "id": "1sA0nessJrcF"
      },
      "execution_count": 33,
      "outputs": []
    },
    {
      "cell_type": "code",
      "source": [
        "transcriber = pipeline(\"automatic-speech-recognition\", \"facebook/wav2vec2-base-960h\")\n",
        "trnsfrmrs_res = transcriber(wav_file)\n",
        "trnsfrmrs_res"
      ],
      "metadata": {
        "colab": {
          "base_uri": "https://localhost:8080/"
        },
        "id": "82FgPy4RJv-e",
        "outputId": "8d3f1e76-c65f-4641-dfa6-3ab187aca252"
      },
      "execution_count": 41,
      "outputs": [
        {
          "output_type": "stream",
          "name": "stderr",
          "text": [
            "Some weights of the model checkpoint at facebook/wav2vec2-base-960h were not used when initializing Wav2Vec2ForCTC: ['wav2vec2.encoder.pos_conv_embed.conv.weight_v', 'wav2vec2.encoder.pos_conv_embed.conv.weight_g']\n",
            "- This IS expected if you are initializing Wav2Vec2ForCTC from the checkpoint of a model trained on another task or with another architecture (e.g. initializing a BertForSequenceClassification model from a BertForPreTraining model).\n",
            "- This IS NOT expected if you are initializing Wav2Vec2ForCTC from the checkpoint of a model that you expect to be exactly identical (initializing a BertForSequenceClassification model from a BertForSequenceClassification model).\n",
            "Some weights of Wav2Vec2ForCTC were not initialized from the model checkpoint at facebook/wav2vec2-base-960h and are newly initialized: ['wav2vec2.encoder.pos_conv_embed.conv.parametrizations.weight.original0', 'wav2vec2.encoder.pos_conv_embed.conv.parametrizations.weight.original1', 'wav2vec2.masked_spec_embed']\n",
            "You should probably TRAIN this model on a down-stream task to be able to use it for predictions and inference.\n"
          ]
        },
        {
          "output_type": "execute_result",
          "data": {
            "text/plain": [
              "{'text': \"HOSHE IS MANAGED TO FIND THE LARGEST CRAB APPLE I'VE EVER SEEN ROUND HERE AND HE CERTAINLY NOT WILLING TO SHARE IT EITHER LAST WEEK HE HAD THE AREA ALL TO HIMSELF BUT HE DOESN'T HAVE THAT LOUXURY RIGHT NOW AND HACTUALLY CRABAPPLES ARE VERY TOUGH TO EAT AND IT'S THE FACT THAT I THINK THE BIG MAN FROM JAPAN IS LEARNING RIGHT NOW MEANWHILE THE OTHERS HAVE DECIDED THAT MANY SMALL APPLES IS THE BEST ROUT FORWARD AND I PERSOINLY AGREE WITH THIS STRATEGY I THINK YOU COULD INTATE MALL APPLE BY CHEWING ON LOTS OF SMALL OBJECTS AS SUPPOSED TO TRYING TO BREAK A LARGE ONE DOW AND WHILE WE'VE GOT THEM ON THIS SIDE OF THE FENCE IT GIVES US A VERY SMALL GLIMPS ABOUT WHAT LIFE WOULD HAVE BEEN LIKE FOR THEIR ANCESTORS THESE GUYS ARE COUNY COUNY PIGS AND THER GREAT GREAT GREATGREAT GREAT GREAT GREAT GREAT GREAT GREAT GREAT GRANDPARENTS LIVED IN THE FOREST OF NEW ZEALAND AND SO FORAGING IN WOODLAND COMES VERY NATURALLY TO THESE RACES COUNY CUNYS ARE ALSO ONE OF THE SMALLEST BREEDS IN THE WORLD BUT THAT DOES NOT MEAN THEY STAYED THIS MALL FOREVER IN FACT THEY STILL GROW AT LEAST HALF THE SIZE AF MOST OTHER BREES OF PIGS AND THAT MEANS THEY CAN GROW AS MUCH AS EIGHTY OR HUNDRED KILEGRAMS EVEN MORE AND SO THE ONLY REASON WHY THESE FIVE ARE SO SMALL IS BECAUSE THEY ARE YOUNG BUT I THINK WE'RE STARTING TO SEE WHY THEY GROW SO BIG THEY CERTAINLY DON'T HAVE ANY GILT ABOUT INTAKING THIS MUCH SUGAR IN ONE SITTING THANK GOD THERE'S NOW SUCH THING AS PIG DIABETIES ANYWAY ON TO RACETHRY\"}"
            ]
          },
          "metadata": {},
          "execution_count": 41
        }
      ]
    },
    {
      "cell_type": "markdown",
      "source": [
        "# 3. Оцениваем качество!"
      ],
      "metadata": {
        "id": "0tzAoHR1SQMD"
      }
    },
    {
      "cell_type": "code",
      "source": [
        "handwritten = '''Hoshi has managed to find the largest crabapple I've ever seen around here and he's certainly not willing to share it either. Last week he had the area all to himself but he doesn't have that luxury right now. And actually crabapples are very tough to eat and it's a fact that I think the big man from Japan is learning right now. Meanwhile the others have decided that many small apples is the best route forward. And I personally agree with this strategy. I think you could intake more apple by chewing on lots of small objects as opposed to trying to break a large one down. And while we've got them on this side of the fence it gives us a very small glimpse about what life would have been like for their ancestors. These guys are Kunekune pigs and their great great great great great great great great great great great grandparents lived in the forest of New Zealand. And so foraging in Woodland comes very naturally to these races. Kunekunes are also one of the smallest breeds in the world, but that does not mean they stayed this small forever. In fact, they still grow at least half the size of most other breeds of pigs and that means they can grow as much as 80, 100 kilograms even more! And so the only reason why these five are so small is because they are young. But I think we're starting to see why they grow so big: they certainly don't have any guilt about intaking this much sugar in one sitting. Thank God there's no such thing as pig diabetes. Anyway, onto race three.'''"
      ],
      "metadata": {
        "id": "t0UKD46VkCku"
      },
      "execution_count": 65,
      "outputs": []
    },
    {
      "cell_type": "code",
      "source": [
        "results = {'subtitles': subtitles,\n",
        "           'whisper': whisper_res,\n",
        "           'google': google_res,\n",
        "           'Wav2Vec2': list(trnsfrmrs_res.values())[0]}"
      ],
      "metadata": {
        "id": "P3AdTfoySTob"
      },
      "execution_count": 78,
      "outputs": []
    },
    {
      "cell_type": "code",
      "source": [
        "pip install fuzzywuzzy"
      ],
      "metadata": {
        "id": "1AytBrUApJbS"
      },
      "execution_count": null,
      "outputs": []
    },
    {
      "cell_type": "code",
      "source": [
        "pip install python-Levenshtein"
      ],
      "metadata": {
        "id": "kzfkBoEXpJ8u"
      },
      "execution_count": null,
      "outputs": []
    },
    {
      "cell_type": "code",
      "source": [
        "from fuzzywuzzy import fuzz\n",
        "from fuzzywuzzy import process"
      ],
      "metadata": {
        "id": "P9moHpwxpNqd"
      },
      "execution_count": 61,
      "outputs": []
    },
    {
      "cell_type": "code",
      "source": [
        "for name, text in results.items():\n",
        "    score = fuzz.WRatio(text, handwritten)\n",
        "    print(name, score)"
      ],
      "metadata": {
        "colab": {
          "base_uri": "https://localhost:8080/"
        },
        "id": "CAKX0gM9pPwf",
        "outputId": "27a1a433-4bd5-4477-db6c-44f82c7c8c66"
      },
      "execution_count": 79,
      "outputs": [
        {
          "output_type": "stream",
          "name": "stdout",
          "text": [
            "subtitles 97\n",
            "whisper 98\n",
            "google 91\n",
            "Wav2Vec2 96\n"
          ]
        }
      ]
    }
  ]
}